{
 "cells": [
  {
   "cell_type": "markdown",
   "metadata": {},
   "source": [
    "Загрузим данные."
   ]
  },
  {
   "cell_type": "code",
   "execution_count": 1,
   "metadata": {
    "scrolled": true
   },
   "outputs": [
    {
     "data": {
      "text/html": [
       "<div>\n",
       "<style scoped>\n",
       "    .dataframe tbody tr th:only-of-type {\n",
       "        vertical-align: middle;\n",
       "    }\n",
       "\n",
       "    .dataframe tbody tr th {\n",
       "        vertical-align: top;\n",
       "    }\n",
       "\n",
       "    .dataframe thead th {\n",
       "        text-align: right;\n",
       "    }\n",
       "</style>\n",
       "<table border=\"1\" class=\"dataframe\">\n",
       "  <thead>\n",
       "    <tr style=\"text-align: right;\">\n",
       "      <th></th>\n",
       "      <th>words</th>\n",
       "      <th>Город</th>\n",
       "      <th>Контрагент</th>\n",
       "      <th>ФИО</th>\n",
       "    </tr>\n",
       "  </thead>\n",
       "  <tbody>\n",
       "    <tr>\n",
       "      <th>1</th>\n",
       "      <td>не</td>\n",
       "      <td>О</td>\n",
       "      <td>О</td>\n",
       "      <td>О</td>\n",
       "    </tr>\n",
       "    <tr>\n",
       "      <th>2</th>\n",
       "      <td>подтягивается</td>\n",
       "      <td>О</td>\n",
       "      <td>О</td>\n",
       "      <td>О</td>\n",
       "    </tr>\n",
       "    <tr>\n",
       "      <th>3</th>\n",
       "      <td>кз</td>\n",
       "      <td>О</td>\n",
       "      <td>О</td>\n",
       "      <td>О</td>\n",
       "    </tr>\n",
       "    <tr>\n",
       "      <th>4</th>\n",
       "      <td>в</td>\n",
       "      <td>О</td>\n",
       "      <td>О</td>\n",
       "      <td>О</td>\n",
       "    </tr>\n",
       "    <tr>\n",
       "      <th>5</th>\n",
       "      <td>пакет</td>\n",
       "      <td>О</td>\n",
       "      <td>О</td>\n",
       "      <td>О</td>\n",
       "    </tr>\n",
       "    <tr>\n",
       "      <th>6</th>\n",
       "      <td>эдо</td>\n",
       "      <td>О</td>\n",
       "      <td>О</td>\n",
       "      <td>О</td>\n",
       "    </tr>\n",
       "    <tr>\n",
       "      <th>7</th>\n",
       "      <td>скрин</td>\n",
       "      <td>О</td>\n",
       "      <td>О</td>\n",
       "      <td>О</td>\n",
       "    </tr>\n",
       "    <tr>\n",
       "      <th>8</th>\n",
       "      <td>нестандартный</td>\n",
       "      <td>О</td>\n",
       "      <td>О</td>\n",
       "      <td>О</td>\n",
       "    </tr>\n",
       "    <tr>\n",
       "      <th>9</th>\n",
       "      <td>зно</td>\n",
       "      <td>О</td>\n",
       "      <td>О</td>\n",
       "      <td>О</td>\n",
       "    </tr>\n",
       "    <tr>\n",
       "      <th>10</th>\n",
       "      <td>---</td>\n",
       "      <td>О</td>\n",
       "      <td>О</td>\n",
       "      <td>О</td>\n",
       "    </tr>\n",
       "    <tr>\n",
       "      <th>11</th>\n",
       "      <td>ошибка</td>\n",
       "      <td>О</td>\n",
       "      <td>О</td>\n",
       "      <td>О</td>\n",
       "    </tr>\n",
       "  </tbody>\n",
       "</table>\n",
       "</div>"
      ],
      "text/plain": [
       "            words Город Контрагент ФИО\n",
       "1              не     О          О   О\n",
       "2   подтягивается     О          О   О\n",
       "3              кз     О          О   О\n",
       "4               в     О          О   О\n",
       "5           пакет     О          О   О\n",
       "6             эдо     О          О   О\n",
       "7           скрин     О          О   О\n",
       "8   нестандартный     О          О   О\n",
       "9             зно     О          О   О\n",
       "10            ---     О          О   О\n",
       "11         ошибка     О          О   О"
      ]
     },
     "execution_count": 1,
     "metadata": {},
     "output_type": "execute_result"
    }
   ],
   "source": [
    "import warnings\n",
    "warnings.filterwarnings(\"ignore\")\n",
    "\n",
    "import numpy as np\n",
    "import pandas as pd\n",
    "from pandas import Series, DataFrame\n",
    "\n",
    "\n",
    "df = pd.read_excel(\"NER.xlsx\")\n",
    "df[\"words\"] = df[\"words\"].astype(str)\n",
    "df[1:12]"
   ]
  },
  {
   "cell_type": "markdown",
   "metadata": {},
   "source": [
    "Рассмотрим примеры каждой именованной сущности:"
   ]
  },
  {
   "cell_type": "markdown",
   "metadata": {},
   "source": [
    "- Контрагент:"
   ]
  },
  {
   "cell_type": "code",
   "execution_count": 2,
   "metadata": {},
   "outputs": [
    {
     "data": {
      "text/html": [
       "<div>\n",
       "<style scoped>\n",
       "    .dataframe tbody tr th:only-of-type {\n",
       "        vertical-align: middle;\n",
       "    }\n",
       "\n",
       "    .dataframe tbody tr th {\n",
       "        vertical-align: top;\n",
       "    }\n",
       "\n",
       "    .dataframe thead th {\n",
       "        text-align: right;\n",
       "    }\n",
       "</style>\n",
       "<table border=\"1\" class=\"dataframe\">\n",
       "  <thead>\n",
       "    <tr style=\"text-align: right;\">\n",
       "      <th></th>\n",
       "      <th>words</th>\n",
       "      <th>Город</th>\n",
       "      <th>Контрагент</th>\n",
       "      <th>ФИО</th>\n",
       "    </tr>\n",
       "  </thead>\n",
       "  <tbody>\n",
       "    <tr>\n",
       "      <th>365</th>\n",
       "      <td>ооо</td>\n",
       "      <td>О</td>\n",
       "      <td>н</td>\n",
       "      <td>О</td>\n",
       "    </tr>\n",
       "    <tr>\n",
       "      <th>366</th>\n",
       "      <td>абутилон</td>\n",
       "      <td>О</td>\n",
       "      <td>п</td>\n",
       "      <td>О</td>\n",
       "    </tr>\n",
       "    <tr>\n",
       "      <th>367</th>\n",
       "      <td>строй</td>\n",
       "      <td>О</td>\n",
       "      <td>п</td>\n",
       "      <td>О</td>\n",
       "    </tr>\n",
       "    <tr>\n",
       "      <th>463</th>\n",
       "      <td>индивидуальный</td>\n",
       "      <td>О</td>\n",
       "      <td>н</td>\n",
       "      <td>О</td>\n",
       "    </tr>\n",
       "    <tr>\n",
       "      <th>464</th>\n",
       "      <td>агава</td>\n",
       "      <td>О</td>\n",
       "      <td>п</td>\n",
       "      <td>О</td>\n",
       "    </tr>\n",
       "    <tr>\n",
       "      <th>465</th>\n",
       "      <td>габов</td>\n",
       "      <td>О</td>\n",
       "      <td>п</td>\n",
       "      <td>О</td>\n",
       "    </tr>\n",
       "    <tr>\n",
       "      <th>466</th>\n",
       "      <td>иван</td>\n",
       "      <td>О</td>\n",
       "      <td>п</td>\n",
       "      <td>О</td>\n",
       "    </tr>\n",
       "    <tr>\n",
       "      <th>467</th>\n",
       "      <td>михайлович</td>\n",
       "      <td>О</td>\n",
       "      <td>п</td>\n",
       "      <td>О</td>\n",
       "    </tr>\n",
       "    <tr>\n",
       "      <th>1033</th>\n",
       "      <td>ип</td>\n",
       "      <td>О</td>\n",
       "      <td>н</td>\n",
       "      <td>О</td>\n",
       "    </tr>\n",
       "    <tr>\n",
       "      <th>1034</th>\n",
       "      <td>агапантус</td>\n",
       "      <td>О</td>\n",
       "      <td>п</td>\n",
       "      <td>О</td>\n",
       "    </tr>\n",
       "  </tbody>\n",
       "</table>\n",
       "</div>"
      ],
      "text/plain": [
       "               words Город Контрагент ФИО\n",
       "365              ооо     О          н   О\n",
       "366         абутилон     О          п   О\n",
       "367            строй     О          п   О\n",
       "463   индивидуальный     О          н   О\n",
       "464            агава     О          п   О\n",
       "465            габов     О          п   О\n",
       "466             иван     О          п   О\n",
       "467       михайлович     О          п   О\n",
       "1033              ип     О          н   О\n",
       "1034       агапантус     О          п   О"
      ]
     },
     "execution_count": 2,
     "metadata": {},
     "output_type": "execute_result"
    }
   ],
   "source": [
    "df[df[\"Контрагент\"] != \"О\"][:10]"
   ]
  },
  {
   "cell_type": "markdown",
   "metadata": {},
   "source": [
    "- Фамилия, имя и отчество:"
   ]
  },
  {
   "cell_type": "code",
   "execution_count": 3,
   "metadata": {},
   "outputs": [
    {
     "data": {
      "text/html": [
       "<div>\n",
       "<style scoped>\n",
       "    .dataframe tbody tr th:only-of-type {\n",
       "        vertical-align: middle;\n",
       "    }\n",
       "\n",
       "    .dataframe tbody tr th {\n",
       "        vertical-align: top;\n",
       "    }\n",
       "\n",
       "    .dataframe thead th {\n",
       "        text-align: right;\n",
       "    }\n",
       "</style>\n",
       "<table border=\"1\" class=\"dataframe\">\n",
       "  <thead>\n",
       "    <tr style=\"text-align: right;\">\n",
       "      <th></th>\n",
       "      <th>words</th>\n",
       "      <th>Город</th>\n",
       "      <th>Контрагент</th>\n",
       "      <th>ФИО</th>\n",
       "    </tr>\n",
       "  </thead>\n",
       "  <tbody>\n",
       "    <tr>\n",
       "      <th>319</th>\n",
       "      <td>прищепова</td>\n",
       "      <td>О</td>\n",
       "      <td>О</td>\n",
       "      <td>н</td>\n",
       "    </tr>\n",
       "    <tr>\n",
       "      <th>320</th>\n",
       "      <td>альбина</td>\n",
       "      <td>О</td>\n",
       "      <td>О</td>\n",
       "      <td>п</td>\n",
       "    </tr>\n",
       "    <tr>\n",
       "      <th>654</th>\n",
       "      <td>мазитовой</td>\n",
       "      <td>О</td>\n",
       "      <td>О</td>\n",
       "      <td>н</td>\n",
       "    </tr>\n",
       "    <tr>\n",
       "      <th>1076</th>\n",
       "      <td>макарова</td>\n",
       "      <td>О</td>\n",
       "      <td>О</td>\n",
       "      <td>н</td>\n",
       "    </tr>\n",
       "    <tr>\n",
       "      <th>1847</th>\n",
       "      <td>ильбаев</td>\n",
       "      <td>О</td>\n",
       "      <td>О</td>\n",
       "      <td>н</td>\n",
       "    </tr>\n",
       "    <tr>\n",
       "      <th>1848</th>\n",
       "      <td>халит</td>\n",
       "      <td>О</td>\n",
       "      <td>О</td>\n",
       "      <td>п</td>\n",
       "    </tr>\n",
       "    <tr>\n",
       "      <th>1849</th>\n",
       "      <td>абдулхабирович</td>\n",
       "      <td>О</td>\n",
       "      <td>О</td>\n",
       "      <td>п</td>\n",
       "    </tr>\n",
       "    <tr>\n",
       "      <th>3687</th>\n",
       "      <td>коптяева</td>\n",
       "      <td>О</td>\n",
       "      <td>О</td>\n",
       "      <td>н</td>\n",
       "    </tr>\n",
       "    <tr>\n",
       "      <th>3694</th>\n",
       "      <td>афанвсьева</td>\n",
       "      <td>О</td>\n",
       "      <td>О</td>\n",
       "      <td>н</td>\n",
       "    </tr>\n",
       "    <tr>\n",
       "      <th>3695</th>\n",
       "      <td>анатолия</td>\n",
       "      <td>О</td>\n",
       "      <td>О</td>\n",
       "      <td>п</td>\n",
       "    </tr>\n",
       "  </tbody>\n",
       "</table>\n",
       "</div>"
      ],
      "text/plain": [
       "               words Город Контрагент ФИО\n",
       "319        прищепова     О          О   н\n",
       "320          альбина     О          О   п\n",
       "654        мазитовой     О          О   н\n",
       "1076        макарова     О          О   н\n",
       "1847         ильбаев     О          О   н\n",
       "1848           халит     О          О   п\n",
       "1849  абдулхабирович     О          О   п\n",
       "3687        коптяева     О          О   н\n",
       "3694      афанвсьева     О          О   н\n",
       "3695        анатолия     О          О   п"
      ]
     },
     "execution_count": 3,
     "metadata": {},
     "output_type": "execute_result"
    }
   ],
   "source": [
    "df[df[\"ФИО\"] != \"О\"][:10]"
   ]
  },
  {
   "cell_type": "markdown",
   "metadata": {},
   "source": [
    "- Город:"
   ]
  },
  {
   "cell_type": "code",
   "execution_count": 4,
   "metadata": {},
   "outputs": [
    {
     "data": {
      "text/html": [
       "<div>\n",
       "<style scoped>\n",
       "    .dataframe tbody tr th:only-of-type {\n",
       "        vertical-align: middle;\n",
       "    }\n",
       "\n",
       "    .dataframe tbody tr th {\n",
       "        vertical-align: top;\n",
       "    }\n",
       "\n",
       "    .dataframe thead th {\n",
       "        text-align: right;\n",
       "    }\n",
       "</style>\n",
       "<table border=\"1\" class=\"dataframe\">\n",
       "  <thead>\n",
       "    <tr style=\"text-align: right;\">\n",
       "      <th></th>\n",
       "      <th>words</th>\n",
       "      <th>Город</th>\n",
       "      <th>Контрагент</th>\n",
       "      <th>ФИО</th>\n",
       "    </tr>\n",
       "  </thead>\n",
       "  <tbody>\n",
       "    <tr>\n",
       "      <th>377</th>\n",
       "      <td>москва</td>\n",
       "      <td>н</td>\n",
       "      <td>О</td>\n",
       "      <td>О</td>\n",
       "    </tr>\n",
       "    <tr>\n",
       "      <th>2355</th>\n",
       "      <td>красноярск</td>\n",
       "      <td>н</td>\n",
       "      <td>О</td>\n",
       "      <td>О</td>\n",
       "    </tr>\n",
       "    <tr>\n",
       "      <th>6918</th>\n",
       "      <td>астрахани</td>\n",
       "      <td>н</td>\n",
       "      <td>О</td>\n",
       "      <td>О</td>\n",
       "    </tr>\n",
       "    <tr>\n",
       "      <th>6940</th>\n",
       "      <td>самару</td>\n",
       "      <td>н</td>\n",
       "      <td>О</td>\n",
       "      <td>О</td>\n",
       "    </tr>\n",
       "    <tr>\n",
       "      <th>10198</th>\n",
       "      <td>канск</td>\n",
       "      <td>н</td>\n",
       "      <td>О</td>\n",
       "      <td>О</td>\n",
       "    </tr>\n",
       "    <tr>\n",
       "      <th>12848</th>\n",
       "      <td>нижний</td>\n",
       "      <td>н</td>\n",
       "      <td>О</td>\n",
       "      <td>О</td>\n",
       "    </tr>\n",
       "    <tr>\n",
       "      <th>12849</th>\n",
       "      <td>новгород</td>\n",
       "      <td>п</td>\n",
       "      <td>О</td>\n",
       "      <td>О</td>\n",
       "    </tr>\n",
       "    <tr>\n",
       "      <th>12852</th>\n",
       "      <td>нижний</td>\n",
       "      <td>н</td>\n",
       "      <td>О</td>\n",
       "      <td>О</td>\n",
       "    </tr>\n",
       "    <tr>\n",
       "      <th>12853</th>\n",
       "      <td>новгород</td>\n",
       "      <td>п</td>\n",
       "      <td>О</td>\n",
       "      <td>О</td>\n",
       "    </tr>\n",
       "  </tbody>\n",
       "</table>\n",
       "</div>"
      ],
      "text/plain": [
       "            words Город Контрагент ФИО\n",
       "377        москва     н          О   О\n",
       "2355   красноярск     н          О   О\n",
       "6918    астрахани     н          О   О\n",
       "6940       самару     н          О   О\n",
       "10198       канск     н          О   О\n",
       "12848      нижний     н          О   О\n",
       "12849    новгород     п          О   О\n",
       "12852      нижний     н          О   О\n",
       "12853    новгород     п          О   О"
      ]
     },
     "execution_count": 4,
     "metadata": {},
     "output_type": "execute_result"
    }
   ],
   "source": [
    "df[df[\"Город\"] != \"О\"][:9]"
   ]
  },
  {
   "cell_type": "code",
   "execution_count": 5,
   "metadata": {},
   "outputs": [
    {
     "data": {
      "text/html": [
       "<div>\n",
       "<style scoped>\n",
       "    .dataframe tbody tr th:only-of-type {\n",
       "        vertical-align: middle;\n",
       "    }\n",
       "\n",
       "    .dataframe tbody tr th {\n",
       "        vertical-align: top;\n",
       "    }\n",
       "\n",
       "    .dataframe thead th {\n",
       "        text-align: right;\n",
       "    }\n",
       "</style>\n",
       "<table border=\"1\" class=\"dataframe\">\n",
       "  <thead>\n",
       "    <tr style=\"text-align: right;\">\n",
       "      <th></th>\n",
       "      <th>words</th>\n",
       "      <th>Город</th>\n",
       "      <th>Контрагент</th>\n",
       "      <th>ФИО</th>\n",
       "      <th>sent_number</th>\n",
       "    </tr>\n",
       "  </thead>\n",
       "  <tbody>\n",
       "    <tr>\n",
       "      <th>8</th>\n",
       "      <td>нестандартный</td>\n",
       "      <td>О</td>\n",
       "      <td>О</td>\n",
       "      <td>О</td>\n",
       "      <td>0</td>\n",
       "    </tr>\n",
       "    <tr>\n",
       "      <th>9</th>\n",
       "      <td>зно</td>\n",
       "      <td>О</td>\n",
       "      <td>О</td>\n",
       "      <td>О</td>\n",
       "      <td>0</td>\n",
       "    </tr>\n",
       "    <tr>\n",
       "      <th>10</th>\n",
       "      <td>---</td>\n",
       "      <td>О</td>\n",
       "      <td>О</td>\n",
       "      <td>О</td>\n",
       "      <td>1</td>\n",
       "    </tr>\n",
       "    <tr>\n",
       "      <th>11</th>\n",
       "      <td>ошибка</td>\n",
       "      <td>О</td>\n",
       "      <td>О</td>\n",
       "      <td>О</td>\n",
       "      <td>1</td>\n",
       "    </tr>\n",
       "    <tr>\n",
       "      <th>12</th>\n",
       "      <td>при</td>\n",
       "      <td>О</td>\n",
       "      <td>О</td>\n",
       "      <td>О</td>\n",
       "      <td>1</td>\n",
       "    </tr>\n",
       "  </tbody>\n",
       "</table>\n",
       "</div>"
      ],
      "text/plain": [
       "            words Город Контрагент ФИО  sent_number\n",
       "8   нестандартный     О          О   О            0\n",
       "9             зно     О          О   О            0\n",
       "10            ---     О          О   О            1\n",
       "11         ошибка     О          О   О            1\n",
       "12            при     О          О   О            1"
      ]
     },
     "execution_count": 5,
     "metadata": {},
     "output_type": "execute_result"
    }
   ],
   "source": [
    "df[\"sent_number\"] = (df[\"words\"] == \"---\").astype(int).cumsum()\n",
    "df[8:13]"
   ]
  },
  {
   "cell_type": "code",
   "execution_count": 6,
   "metadata": {},
   "outputs": [],
   "source": [
    "from pymorphy2 import MorphAnalyzer\n",
    "\n",
    "lemmatizer = MorphAnalyzer()\n",
    "to_normal_form = { word : lemmatizer.normal_forms(word) for word in df[\"words\"].unique() }\n",
    "df[\"words\"] = df[\"words\"].apply(lambda x : to_normal_form[x][0])"
   ]
  },
  {
   "cell_type": "code",
   "execution_count": 7,
   "metadata": {},
   "outputs": [
    {
     "data": {
      "text/html": [
       "<div>\n",
       "<style scoped>\n",
       "    .dataframe tbody tr th:only-of-type {\n",
       "        vertical-align: middle;\n",
       "    }\n",
       "\n",
       "    .dataframe tbody tr th {\n",
       "        vertical-align: top;\n",
       "    }\n",
       "\n",
       "    .dataframe thead th {\n",
       "        text-align: right;\n",
       "    }\n",
       "</style>\n",
       "<table border=\"1\" class=\"dataframe\">\n",
       "  <thead>\n",
       "    <tr style=\"text-align: right;\">\n",
       "      <th></th>\n",
       "      <th>words</th>\n",
       "      <th>Город</th>\n",
       "      <th>Контрагент</th>\n",
       "      <th>ФИО</th>\n",
       "      <th>sent_number</th>\n",
       "    </tr>\n",
       "  </thead>\n",
       "  <tbody>\n",
       "    <tr>\n",
       "      <th>0</th>\n",
       "      <td>дд</td>\n",
       "      <td>О</td>\n",
       "      <td>О</td>\n",
       "      <td>О</td>\n",
       "      <td>0</td>\n",
       "    </tr>\n",
       "    <tr>\n",
       "      <th>1</th>\n",
       "      <td>не</td>\n",
       "      <td>О</td>\n",
       "      <td>О</td>\n",
       "      <td>О</td>\n",
       "      <td>0</td>\n",
       "    </tr>\n",
       "    <tr>\n",
       "      <th>2</th>\n",
       "      <td>подтягиваться</td>\n",
       "      <td>О</td>\n",
       "      <td>О</td>\n",
       "      <td>О</td>\n",
       "      <td>0</td>\n",
       "    </tr>\n",
       "    <tr>\n",
       "      <th>3</th>\n",
       "      <td>кз</td>\n",
       "      <td>О</td>\n",
       "      <td>О</td>\n",
       "      <td>О</td>\n",
       "      <td>0</td>\n",
       "    </tr>\n",
       "    <tr>\n",
       "      <th>4</th>\n",
       "      <td>в</td>\n",
       "      <td>О</td>\n",
       "      <td>О</td>\n",
       "      <td>О</td>\n",
       "      <td>0</td>\n",
       "    </tr>\n",
       "  </tbody>\n",
       "</table>\n",
       "</div>"
      ],
      "text/plain": [
       "           words Город Контрагент ФИО  sent_number\n",
       "0             дд     О          О   О            0\n",
       "1             не     О          О   О            0\n",
       "2  подтягиваться     О          О   О            0\n",
       "3             кз     О          О   О            0\n",
       "4              в     О          О   О            0"
      ]
     },
     "execution_count": 7,
     "metadata": {},
     "output_type": "execute_result"
    }
   ],
   "source": [
    "df.head()"
   ]
  },
  {
   "cell_type": "code",
   "execution_count": 8,
   "metadata": {},
   "outputs": [
    {
     "name": "stdout",
     "output_type": "stream",
     "text": [
      "===== полученные размерности =====\n",
      "df_train.shape: (639058, 5)\n",
      "df_dev.shape: (159765, 5)\n"
     ]
    }
   ],
   "source": [
    "from sklearn.model_selection import train_test_split\n",
    "\n",
    "df_train, df_dev = train_test_split(df, test_size=0.2)\n",
    "print(\"===== полученные размерности =====\")\n",
    "print(\"df_train.shape:\", df_train.shape)\n",
    "print(\"df_dev.shape:\", df_dev.shape)"
   ]
  },
  {
   "cell_type": "markdown",
   "metadata": {},
   "source": [
    "## Базовый подход"
   ]
  },
  {
   "cell_type": "markdown",
   "metadata": {},
   "source": [
    "Базовый подход заключается просто в запоминании тегов для всех слов из тренировочного множества. Более подробно:\n",
    "- Для каждого уникального слова храним словарь, в котором записываем, сколько раз в тренировочном множестве встречались метки $О$, $н$ и $п$\n",
    "- Запоминаем самую частотную метку для каждого слова\n",
    "- Во время тестирования для каждого слова выдаем самую частотную метку"
   ]
  },
  {
   "cell_type": "code",
   "execution_count": 9,
   "metadata": {},
   "outputs": [],
   "source": [
    "from sklearn.base import BaseEstimator, TransformerMixin\n",
    "from collections import defaultdict\n",
    "\n",
    "class BasicModel(BaseEstimator, TransformerMixin):\n",
    "    \n",
    "    def fit(self, X, y):\n",
    "        words = Series(X).unique().tolist()\n",
    "        self.vocabulary = {word : {\"О\" : 0, \"н\" : 0, \"п\" : 0} for word in words}\n",
    "        for word, entity in zip(X, y):\n",
    "            self.vocabulary[word][entity] += 1\n",
    "\n",
    "        self.memory = {}\n",
    "        for key, dictionary in self.vocabulary.items():\n",
    "            self.memory[key] = max(dictionary, key=dictionary.get)\n",
    "    \n",
    "    def predict(self, X, y=None):\n",
    "\n",
    "        return [self.memory.get(x, 'О') for x in X]"
   ]
  },
  {
   "cell_type": "code",
   "execution_count": 10,
   "metadata": {},
   "outputs": [
    {
     "name": "stdout",
     "output_type": "stream",
     "text": [
      "===== Контрагент =====\n",
      "precision_score (начало сущности): 0.4157303370786517\n",
      "precision_score (продолжение сущности): 0.06299212598425197\n",
      "recall_score (начало сущности): 0.7254901960784313\n",
      "recall_score (продолжение сущности): 0.8\n",
      "===== Город =====\n",
      "precision_score (начало сущности): 0.8035714285714286\n",
      "precision_score (продолжение сущности): 0.5675675675675675\n",
      "recall_score (начало сущности): 0.8587786259541985\n",
      "recall_score (продолжение сущности): 0.9545454545454546\n",
      "===== ФИО =====\n",
      "precision_score (начало сущности): 0.5404290429042904\n",
      "precision_score (продолжение сущности): 0.845564773452457\n",
      "recall_score (начало сущности): 0.8768406961178046\n",
      "recall_score (продолжение сущности): 0.9137931034482759\n"
     ]
    }
   ],
   "source": [
    "from sklearn.model_selection import cross_val_score\n",
    "from sklearn.metrics import precision_score, recall_score\n",
    "\n",
    "X_train = df_train[\"words\"].values.tolist()\n",
    "X_dev = df_dev[\"words\"].values.tolist()\n",
    "for name in [\"Контрагент\", \"Город\", \"ФИО\"]:\n",
    "    y_train = df_train[name].values.tolist()\n",
    "    y_dev = df_dev[name].values.tolist()\n",
    "    basic_model = BasicModel()\n",
    "    basic_model.fit(X_train, y_train)\n",
    "    print(\"=====\", name, \"=====\")\n",
    "    print(\"precision_score (начало сущности):\", precision_score(basic_model.predict(X_dev), y_dev, average=None)[1])\n",
    "    print(\"precision_score (продолжение сущности):\", precision_score(basic_model.predict(X_dev), y_dev, average=None)[2])\n",
    "    print(\"recall_score (начало сущности):\", recall_score(basic_model.predict(X_dev), y_dev, average=None)[1])\n",
    "    print(\"recall_score (продолжение сущности):\", recall_score(basic_model.predict(X_dev), y_dev, average=None)[2])"
   ]
  },
  {
   "cell_type": "markdown",
   "metadata": {},
   "source": [
    "## Неструктурированные методы"
   ]
  },
  {
   "cell_type": "markdown",
   "metadata": {},
   "source": [
    "Прежде чем использовать стандартные методы машинного обучения, нам необходимо каждому объекту из выборки (в нашем случае объекты - это слова) сопоставить признаковое описание. Каждому слову будем сопоставлять следующую информацию:\n",
    "- длину слова\n",
    "- является ли слово числом\n",
    "- содержит ли слово символы, отличные от букв"
   ]
  },
  {
   "cell_type": "code",
   "execution_count": 11,
   "metadata": {},
   "outputs": [],
   "source": [
    "def feature_map(word):\n",
    "    \n",
    "    return np.array([len(word), word.isdigit(), word.isalpha()])"
   ]
  },
  {
   "cell_type": "code",
   "execution_count": 12,
   "metadata": {},
   "outputs": [],
   "source": [
    "X_train = [feature_map(w) for w in df_train[\"words\"].values.tolist()]\n",
    "X_dev = [feature_map(w) for w in df_dev[\"words\"].values.tolist()]"
   ]
  },
  {
   "cell_type": "markdown",
   "metadata": {},
   "source": [
    "Теперь мы можем применить стандартные модели. Начем со случайного леса и посмотрим на результат его работы для каждой именованной сущности:"
   ]
  },
  {
   "cell_type": "code",
   "execution_count": 13,
   "metadata": {},
   "outputs": [
    {
     "name": "stdout",
     "output_type": "stream",
     "text": [
      "===== Контрагент =====\n",
      "precision_score (начало сущности): 0.5730337078651685\n",
      "precision_score (продолжение сущности): 0.7952755905511811\n",
      "recall_score (начало сущности): 0.0024182076813655763\n",
      "recall_score (продолжение сущности): 0.0013928152795973246\n",
      "===== Город =====\n",
      "precision_score (начало сущности): 0.95\n",
      "precision_score (продолжение сущности): 0.0\n",
      "recall_score (начало сущности): 0.003025512119109635\n",
      "recall_score (продолжение сущности): 0.0\n",
      "===== ФИО =====\n",
      "precision_score (начало сущности): 0.4744224422442244\n",
      "precision_score (продолжение сущности): 0.7402680280791321\n",
      "recall_score (начало сущности): 0.01468485034222086\n",
      "recall_score (продолжение сущности): 0.01394381603779255\n"
     ]
    }
   ],
   "source": [
    "from sklearn.ensemble import RandomForestClassifier\n",
    "from sklearn.linear_model import LogisticRegression\n",
    "for name in [\"Контрагент\", \"Город\", \"ФИО\"]:\n",
    "    y_train = df_train[name].values.tolist()\n",
    "    y_dev = df_dev[name].values.tolist()\n",
    "    model = RandomForestClassifier(𝑐𝑙𝑎𝑠𝑠_𝑤𝑒𝑖𝑔ℎ𝑡 ={\"О\" : 1, \"н\" : 1000, \"п\" : 1000})\n",
    "    model.fit(X_train, y_train)\n",
    "    rf_prediction = model.predict(X_dev)\n",
    "    print(\"=====\", name, \"=====\")\n",
    "    print(\"precision_score (начало сущности):\", precision_score(rf_prediction, y_dev, average=None)[1])\n",
    "    print(\"precision_score (продолжение сущности):\", precision_score(rf_prediction, y_dev, average=None)[2])\n",
    "    print(\"recall_score (начало сущности):\", recall_score(rf_prediction, y_dev, average=None)[1])\n",
    "    print(\"recall_score (продолжение сущности):\", recall_score(rf_prediction, y_dev, average=None)[2])"
   ]
  },
  {
   "cell_type": "markdown",
   "metadata": {},
   "source": [
    "Теперь используем логистическую регрессию:"
   ]
  },
  {
   "cell_type": "code",
   "execution_count": 14,
   "metadata": {},
   "outputs": [
    {
     "name": "stdout",
     "output_type": "stream",
     "text": [
      "===== Контрагент =====\n",
      "precision_score (начало сущности): 0.7191011235955056\n",
      "precision_score (продолжение сущности): 0.6220472440944882\n",
      "recall_score (начало сущности): 0.0013076168682576005\n",
      "recall_score (продолжение сущности): 0.0013458950201884253\n",
      "===== Город =====\n",
      "precision_score (начало сущности): 0.9964285714285714\n",
      "precision_score (продолжение сущности): 0.0\n",
      "recall_score (начало сущности): 0.0024024386043467777\n",
      "recall_score (продолжение сущности): 0.0\n",
      "===== ФИО =====\n",
      "precision_score (начало сущности): 0.4777227722772277\n",
      "precision_score (продолжение сущности): 0.7453733248245055\n",
      "recall_score (начало сущности): 0.01252650253126217\n",
      "recall_score (продолжение сущности): 0.011857747637079826\n"
     ]
    }
   ],
   "source": [
    "for name in [\"Контрагент\", \"Город\", \"ФИО\"]:\n",
    "    y_train = df_train[name].values.tolist()\n",
    "    y_dev = df_dev[name].values.tolist()\n",
    "    model = LogisticRegression(solver='lbfgs',𝑐𝑙𝑎𝑠𝑠_𝑤𝑒𝑖𝑔ℎ𝑡 ={\"О\" : 1, \"н\" : 1000, \"п\" : 1000})\n",
    "    model.fit(X_train, y_train)\n",
    "    lr_prediction = model.predict(X_dev)\n",
    "    print(\"=====\", name, \"=====\")\n",
    "    print(\"precision_score (начало сущности):\", precision_score(lr_prediction, y_dev, average=None)[1])\n",
    "    print(\"precision_score (продолжение сущности):\", precision_score(lr_prediction, y_dev, average=None)[2])\n",
    "    print(\"recall_score (начало сущности):\", recall_score(lr_prediction, y_dev, average=None)[1])\n",
    "    print(\"recall_score (продолжение сущности):\", recall_score(lr_prediction, y_dev, average=None)[2])"
   ]
  },
  {
   "cell_type": "markdown",
   "metadata": {},
   "source": [
    "# Структурированные методы"
   ]
  },
  {
   "cell_type": "markdown",
   "metadata": {},
   "source": [
    "Теперь будем использовать модель, учитывающую порядок слов в предложении, так что старый подход, когда мы анализировали данные по словам и разбивали выборку на обучающую и отложенную не зависимо от их расположения в тексте, уже не подходит. Для каждого типа сущности будем использовать следующее представление данных:\n",
    "- Разобьем все слова на предложения (учитывая поле $sent\\_number$)\n",
    "- Каждое предложение представим списком пар $(word, entity)$"
   ]
  },
  {
   "cell_type": "code",
   "execution_count": 16,
   "metadata": {},
   "outputs": [],
   "source": [
    "sentences = {}"
   ]
  },
  {
   "cell_type": "code",
   "execution_count": 17,
   "metadata": {},
   "outputs": [],
   "source": [
    "for name in [\"ФИО\", \"Город\", \"Контрагент\"]:\n",
    "    get_pair_func = lambda s: [(word, entity) for word, entity in zip(s[\"words\"].values.tolist(),\n",
    "                                                                      s[name].values.tolist())]\n",
    "    grouped_words = df.groupby(\"sent_number\").apply(get_pair_func)\n",
    "    sentences[name] = [sentence for sentence in grouped_words]"
   ]
  },
  {
   "cell_type": "code",
   "execution_count": 18,
   "metadata": {},
   "outputs": [
    {
     "data": {
      "text/plain": [
       "[[('дд', 'О'),\n",
       "  ('не', 'О'),\n",
       "  ('подтягиваться', 'О'),\n",
       "  ('кз', 'О'),\n",
       "  ('в', 'О'),\n",
       "  ('пакет', 'О'),\n",
       "  ('эдо', 'О'),\n",
       "  ('скрин', 'О'),\n",
       "  ('нестандартный', 'О'),\n",
       "  ('зно', 'О')]]"
      ]
     },
     "execution_count": 18,
     "metadata": {},
     "output_type": "execute_result"
    }
   ],
   "source": [
    "sentences[\"ФИО\"][:1]"
   ]
  },
  {
   "cell_type": "code",
   "execution_count": 19,
   "metadata": {},
   "outputs": [
    {
     "data": {
      "text/plain": [
       "(18514, 4629)"
      ]
     },
     "execution_count": 19,
     "metadata": {},
     "output_type": "execute_result"
    }
   ],
   "source": [
    "from sklearn.model_selection import train_test_split\n",
    "\n",
    "train_sentences = {}\n",
    "dev_sentences = {}\n",
    "for name in [\"ФИО\", \"Город\", \"Контрагент\"]:\n",
    "    train_sentences[name], dev_sentences[name] = train_test_split(sentences[name], test_size=0.2)\n",
    "len(train_sentences[name]), len(dev_sentences[name])"
   ]
  },
  {
   "cell_type": "code",
   "execution_count": 20,
   "metadata": {},
   "outputs": [],
   "source": [
    "name = \"ФИО\""
   ]
  },
  {
   "cell_type": "code",
   "execution_count": 21,
   "metadata": {},
   "outputs": [
    {
     "name": "stderr",
     "output_type": "stream",
     "text": [
      "Using TensorFlow backend.\n"
     ]
    }
   ],
   "source": [
    "MAX_LEN = 50\n",
    "from keras.utils import to_categorical\n",
    "from keras.preprocessing.sequence import pad_sequences\n",
    "\n",
    "words = list(set(df[\"words\"].values))\n",
    "tags = list(set(df[name].values))\n",
    "word2idx = {w: i for i, w in enumerate(words)}\n",
    "tag2idx = {\"О\" : 0, \"н\" : 1, \"п\" : 2}\n",
    "\n",
    "def sentences2X(sentences):\n",
    "    X = [[word2idx[w[0]] for w in s] for s in sentences]\n",
    "    X = pad_sequences(maxlen=MAX_LEN, sequences=X, padding=\"post\",value=len(words) - 1)\n",
    "    \n",
    "    return X\n",
    "\n",
    "def sentences2y(sentences):\n",
    "    y = [[tag2idx[w[1]] for w in s] for s in sentences]\n",
    "    y = pad_sequences(maxlen=MAX_LEN, sequences=y, padding=\"post\", value=tag2idx['О'])\n",
    "    y = [to_categorical(i, num_classes=len(tags)) for i in y]\n",
    "    \n",
    "    return np.array(y)"
   ]
  },
  {
   "cell_type": "code",
   "execution_count": 22,
   "metadata": {},
   "outputs": [],
   "source": [
    "from keras.preprocessing.sequence import pad_sequences\n",
    "\n",
    "X_train = sentences2X(train_sentences[name])\n",
    "X_dev = sentences2X(dev_sentences[name])\n",
    "y_train = sentences2y(train_sentences[name])\n",
    "y_dev = sentences2y(dev_sentences[name])"
   ]
  },
  {
   "cell_type": "markdown",
   "metadata": {},
   "source": [
    "- $begin\\_recall$ - $Recall$ для метки $н$\n",
    "- $continuous\\_recall$ - $Recall$ для метки $п$\n",
    "- $begin\\_precision$ - $Precision$ для метки $н$\n",
    "- $continuous\\_precision$ - $Precision$ для метки $п$"
   ]
  },
  {
   "cell_type": "code",
   "execution_count": 23,
   "metadata": {},
   "outputs": [],
   "source": [
    "import tensorflow as tf\n",
    "\n",
    "EPS=1e-10\n",
    "def begin_recall(y_true, y_pred):\n",
    "    \n",
    "    return tf.reduce_sum(y_true[::, ::, 1] * y_pred[::, ::, 1]) / (tf.reduce_sum(y_true[::, ::, 1]) + EPS)\n",
    "def continuous_recall(y_true, y_pred):\n",
    "    \n",
    "    return tf.reduce_sum(y_true[::, ::, 2] * y_pred[::, ::, 2]) / (tf.reduce_sum(y_true[::, ::, 2]) + EPS)\n",
    "def begin_precision(y_true, y_pred):\n",
    "    \n",
    "    return tf.reduce_sum(y_true[::, ::, 1] * y_pred[::, ::, 1]) / (tf.reduce_sum(y_pred[::, ::, 1]) + EPS)\n",
    "def continuous_precision(y_true, y_pred):\n",
    "    \n",
    "    return tf.reduce_sum(y_true[::, ::, 2] * y_pred[::, ::, 2]) / (tf.reduce_sum(y_pred[::, ::, 2]) + EPS)"
   ]
  },
  {
   "cell_type": "markdown",
   "metadata": {},
   "source": [
    "Построим архитектуру нейронной сети:"
   ]
  },
  {
   "cell_type": "code",
   "execution_count": 24,
   "metadata": {},
   "outputs": [
    {
     "name": "stdout",
     "output_type": "stream",
     "text": [
      "Model: \"model_1\"\n",
      "_________________________________________________________________\n",
      "Layer (type)                 Output Shape              Param #   \n",
      "=================================================================\n",
      "input_1 (InputLayer)         (None, 50)                0         \n",
      "_________________________________________________________________\n",
      "embedding_1 (Embedding)      (None, 50, 50)            1833650   \n",
      "_________________________________________________________________\n",
      "dropout_1 (Dropout)          (None, 50, 50)            0         \n",
      "_________________________________________________________________\n",
      "rnn_1 (RNN)                  (None, 50, 100)           15100     \n",
      "_________________________________________________________________\n",
      "time_distributed_1 (TimeDist (None, 50, 3)             303       \n",
      "=================================================================\n",
      "Total params: 1,849,053\n",
      "Trainable params: 1,849,053\n",
      "Non-trainable params: 0\n",
      "_________________________________________________________________\n"
     ]
    }
   ],
   "source": [
    "import keras.layers as L\n",
    "from keras.models import Model\n",
    "\n",
    "layer_input = L.Input(shape=(MAX_LEN,))\n",
    "layer_emb = L.Embedding(input_dim=len(words), output_dim=MAX_LEN, input_length=MAX_LEN)(layer_input)\n",
    "layer_drop = L.Dropout(0.1)(layer_emb)\n",
    "layer_lstm = L.RNN(L.SimpleRNNCell(units=100), return_sequences=True)(layer_drop)\n",
    "layer_output = L.TimeDistributed(L.Dense(len(tags), activation=\"softmax\"))(layer_lstm)\n",
    "model = Model(layer_input, layer_output)\n",
    "model.summary()"
   ]
  },
  {
   "cell_type": "code",
   "execution_count": 25,
   "metadata": {},
   "outputs": [],
   "source": [
    "model.compile(optimizer=\"adam\", \n",
    "              loss=\"categorical_crossentropy\", \n",
    "              metrics=[begin_recall, continuous_recall, begin_precision, continuous_precision])"
   ]
  },
  {
   "cell_type": "code",
   "execution_count": 26,
   "metadata": {
    "scrolled": true
   },
   "outputs": [
    {
     "name": "stdout",
     "output_type": "stream",
     "text": [
      "Train on 18514 samples, validate on 4629 samples\n",
      "Epoch 1/5\n",
      "18514/18514 [==============================] - 47s 3ms/step - loss: 0.0363 - begin_recall: 0.2701 - continuous_recall: 0.4892 - begin_precision: 0.2375 - continuous_precision: 0.4597 - val_loss: 0.0119 - val_begin_recall: 0.4560 - val_continuous_recall: 0.7221 - val_begin_precision: 0.5257 - val_continuous_precision: 0.7223\n",
      "Epoch 2/5\n",
      "18514/18514 [==============================] - 46s 2ms/step - loss: 0.0062 - begin_recall: 0.7674 - continuous_recall: 0.7863 - begin_precision: 0.7390 - continuous_precision: 0.7797 - val_loss: 0.0110 - val_begin_recall: 0.5564 - val_continuous_recall: 0.7376 - val_begin_precision: 0.6110 - val_continuous_precision: 0.7708\n",
      "Epoch 3/5\n",
      "18514/18514 [==============================] - 47s 3ms/step - loss: 0.0035 - begin_recall: 0.8759 - continuous_recall: 0.7967 - begin_precision: 0.8659 - continuous_precision: 0.7928 - val_loss: 0.0117 - val_begin_recall: 0.5377 - val_continuous_recall: 0.7063 - val_begin_precision: 0.6382 - val_continuous_precision: 0.7804\n",
      "Epoch 4/5\n",
      "18514/18514 [==============================] - 47s 3ms/step - loss: 0.0027 - begin_recall: 0.9011 - continuous_recall: 0.8321 - begin_precision: 0.8942 - continuous_precision: 0.8266 - val_loss: 0.0127 - val_begin_recall: 0.6094 - val_continuous_recall: 0.7130 - val_begin_precision: 0.5682 - val_continuous_precision: 0.7149\n",
      "Epoch 5/5\n",
      "18514/18514 [==============================] - 47s 3ms/step - loss: 0.0022 - begin_recall: 0.9120 - continuous_recall: 0.8467 - begin_precision: 0.9046 - continuous_precision: 0.8434 - val_loss: 0.0154 - val_begin_recall: 0.5676 - val_continuous_recall: 0.7465 - val_begin_precision: 0.6160 - val_continuous_precision: 0.7284\n"
     ]
    },
    {
     "data": {
      "text/plain": [
       "<keras.callbacks.callbacks.History at 0x17d00f60>"
      ]
     },
     "execution_count": 26,
     "metadata": {},
     "output_type": "execute_result"
    }
   ],
   "source": [
    "model.fit(X_train, np.array(y_train), \n",
    "          batch_size=16, \n",
    "          epochs=5,\n",
    "          validation_data = (X_dev, np.array(y_dev)),\n",
    "          verbose=1)"
   ]
  },
  {
   "cell_type": "markdown",
   "metadata": {},
   "source": [
    "Используем LSTM:"
   ]
  },
  {
   "cell_type": "code",
   "execution_count": 51,
   "metadata": {},
   "outputs": [],
   "source": [
    "layer_input = L.Input(shape=(MAX_LEN,))\n",
    "layer_emb = L.Embedding(input_dim=len(words), output_dim=MAX_LEN, input_length=MAX_LEN)(layer_input)\n",
    "layer_drop = L.Dropout(0.1)(layer_emb)\n",
    "layer_lstm = L.LSTM(128, return_sequences=True)(layer_drop)\n",
    "layer_output = L.TimeDistributed(L.Dense(len(tags), activation=\"softmax\"))(layer_lstm)\n",
    "model = Model(layer_input, layer_output)"
   ]
  },
  {
   "cell_type": "code",
   "execution_count": 52,
   "metadata": {},
   "outputs": [],
   "source": [
    "model.compile(optimizer=\"adam\", \n",
    "              loss=\"categorical_crossentropy\", \n",
    "              metrics=[begin_recall, continuous_recall, begin_precision, continuous_precision])"
   ]
  },
  {
   "cell_type": "code",
   "execution_count": 53,
   "metadata": {},
   "outputs": [
    {
     "name": "stdout",
     "output_type": "stream",
     "text": [
      "Train on 18514 samples, validate on 4629 samples\n",
      "Epoch 1/5\n",
      "18514/18514 [==============================] - 80s 4ms/step - loss: 0.0391 - begin_recall: 0.2272 - continuous_recall: 0.5082 - begin_precision: 0.1998 - continuous_precision: 0.4768 - val_loss: 0.0114 - val_begin_recall: 0.5404 - val_continuous_recall: 0.7400 - val_begin_precision: 0.4312 - val_continuous_precision: 0.6921\n",
      "Epoch 2/5\n",
      "18514/18514 [==============================] - 76s 4ms/step - loss: 0.0063 - begin_recall: 0.7619 - continuous_recall: 0.7674 - begin_precision: 0.7366 - continuous_precision: 0.7511 - val_loss: 0.0120 - val_begin_recall: 0.5122 - val_continuous_recall: 0.7220 - val_begin_precision: 0.5982 - val_continuous_precision: 0.7429\n",
      "Epoch 3/5\n",
      "18514/18514 [==============================] - 77s 4ms/step - loss: 0.0037 - begin_recall: 0.8899 - continuous_recall: 0.8171 - begin_precision: 0.8783 - continuous_precision: 0.8111 - val_loss: 0.0138 - val_begin_recall: 0.6856 - val_continuous_recall: 0.8107 - val_begin_precision: 0.4752 - val_continuous_precision: 0.5969\n",
      "Epoch 4/5\n",
      "18514/18514 [==============================] - 78s 4ms/step - loss: 0.0030 - begin_recall: 0.9014 - continuous_recall: 0.8293 - begin_precision: 0.8963 - continuous_precision: 0.8201 - val_loss: 0.0127 - val_begin_recall: 0.6803 - val_continuous_recall: 0.7655 - val_begin_precision: 0.4852 - val_continuous_precision: 0.7109\n",
      "Epoch 5/5\n",
      "18514/18514 [==============================] - 78s 4ms/step - loss: 0.0025 - begin_recall: 0.8969 - continuous_recall: 0.8298 - begin_precision: 0.8921 - continuous_precision: 0.8261 - val_loss: 0.0136 - val_begin_recall: 0.7153 - val_continuous_recall: 0.7756 - val_begin_precision: 0.4420 - val_continuous_precision: 0.7412\n"
     ]
    }
   ],
   "source": [
    "history = model.fit(X_train, np.array(y_train), \n",
    "          batch_size=16, \n",
    "          epochs=5,\n",
    "          validation_data = (X_dev, np.array(y_dev)),\n",
    "          verbose=1)"
   ]
  },
  {
   "cell_type": "code",
   "execution_count": null,
   "metadata": {},
   "outputs": [],
   "source": []
  }
 ],
 "metadata": {
  "kernelspec": {
   "display_name": "Python 3",
   "language": "python",
   "name": "python3"
  },
  "language_info": {
   "codemirror_mode": {
    "name": "ipython",
    "version": 3
   },
   "file_extension": ".py",
   "mimetype": "text/x-python",
   "name": "python",
   "nbconvert_exporter": "python",
   "pygments_lexer": "ipython3",
   "version": "3.7.1"
  }
 },
 "nbformat": 4,
 "nbformat_minor": 2
}
